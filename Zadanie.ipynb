{
 "cells": [
  {
   "cell_type": "code",
   "execution_count": 4,
   "source": [
    "import pandas as pd\r\n",
    "import matplotlib.pyplot as pyplok\r\n",
    "\r\n",
    "from plotly import graph_objects as go\r\n",
    "import plotly as ply\r\n",
    "\r\n",
    "\r\n",
    "# Initalise data!\r\n",
    "prices = [\r\n",
    "\t(1, 2.12),\r\n",
    "\t(2, 2.56),\r\n",
    "\t(3, 3.10),\r\n",
    "\t(4, 3.16),\r\n",
    "\t(5, 3.58),\r\n",
    "\t(6, 5.12),\r\n",
    "\t(7, 5.16),\r\n",
    "\t(8, 5.20),\r\n",
    "\t(9, 4.12),\r\n",
    "\t(10, 4.10),\r\n",
    "\t(11, 3.65),\r\n",
    "\t(12, 4.25),\r\n",
    "\r\n",
    "]\r\n",
    "\r\n",
    "df = pd.DataFrame(prices, columns=[\"month\", \"price\"])\r\n",
    "df = df.set_index(\"month\")\r\n",
    "print(df)"
   ],
   "outputs": [
    {
     "output_type": "stream",
     "name": "stdout",
     "text": [
      "       price\n",
      "month       \n",
      "1       2.12\n",
      "2       2.56\n",
      "3       3.10\n",
      "4       3.16\n",
      "5       3.58\n",
      "6       5.12\n",
      "7       5.16\n",
      "8       5.20\n",
      "9       4.12\n",
      "10      4.10\n",
      "11      3.65\n",
      "12      4.25\n"
     ]
    }
   ],
   "metadata": {}
  },
  {
   "cell_type": "code",
   "execution_count": 5,
   "source": [
    "# Add USD prices!\r\n",
    "dolares = df['price'].apply(lambda price: price/4)\r\n",
    "df[\"priceUSD\"] = dolares\r\n",
    "print(df)"
   ],
   "outputs": [
    {
     "output_type": "stream",
     "name": "stdout",
     "text": [
      "       price  priceUSD\n",
      "month                 \n",
      "1       2.12    0.5300\n",
      "2       2.56    0.6400\n",
      "3       3.10    0.7750\n",
      "4       3.16    0.7900\n",
      "5       3.58    0.8950\n",
      "6       5.12    1.2800\n",
      "7       5.16    1.2900\n",
      "8       5.20    1.3000\n",
      "9       4.12    1.0300\n",
      "10      4.10    1.0250\n",
      "11      3.65    0.9125\n",
      "12      4.25    1.0625\n"
     ]
    }
   ],
   "metadata": {}
  },
  {
   "cell_type": "code",
   "execution_count": 13,
   "source": [
    "pyplok.title(\"Price of goods (USD)\")\r\n",
    "pyplok.plot(df.index, df[\"priceUSD\"], \"--\", color = \"red\")\r\n",
    "pyplok.plot(df.index, df[\"price\"], \"--\", color = \"blue\")"
   ],
   "outputs": [
    {
     "output_type": "execute_result",
     "data": {
      "text/plain": [
       "[<matplotlib.lines.Line2D at 0x1bd3adc78b0>]"
      ]
     },
     "metadata": {},
     "execution_count": 13
    },
    {
     "output_type": "display_data",
     "data": {
      "text/plain": [
       "<Figure size 432x288 with 1 Axes>"
      ],
      "image/png": "[encoded data removed]"
     },
     "metadata": {
      "needs_background": "light"
     }
    }
   ],
   "metadata": {}
  },
  {
   "cell_type": "code",
   "execution_count": null,
   "source": [],
   "outputs": [],
   "metadata": {}
  },
  {
   "cell_type": "code",
   "execution_count": null,
   "source": [],
   "outputs": [],
   "metadata": {}
  }
 ],
 "metadata": {
  "kernelspec": {
   "display_name": "Python 3 (ipykernel)",
   "language": "python",
   "name": "python3"
  },
  "language_info": {
   "codemirror_mode": {
    "name": "ipython",
    "version": 3
   },
   "file_extension": ".py",
   "mimetype": "text/x-python",
   "name": "python",
   "nbconvert_exporter": "python",
   "pygments_lexer": "ipython3",
   "version": "3.9.6"
  }
 },
 "nbformat": 4,
 "nbformat_minor": 5
}